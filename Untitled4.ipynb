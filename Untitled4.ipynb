{
  "nbformat": 4,
  "nbformat_minor": 0,
  "metadata": {
    "colab": {
      "provenance": [],
      "authorship_tag": "ABX9TyPJjRr0VDmCcsMKrBXY9vDL",
      "include_colab_link": true
    },
    "kernelspec": {
      "name": "python3",
      "display_name": "Python 3"
    },
    "language_info": {
      "name": "python"
    }
  },
  "cells": [
    {
      "cell_type": "markdown",
      "metadata": {
        "id": "view-in-github",
        "colab_type": "text"
      },
      "source": [
        "<a href=\"https://colab.research.google.com/github/Rafa0p12/Rafa0p12/blob/main/Untitled4.ipynb\" target=\"_parent\"><img src=\"https://colab.research.google.com/assets/colab-badge.svg\" alt=\"Open In Colab\"/></a>"
      ]
    },
    {
      "cell_type": "code",
      "execution_count": null,
      "metadata": {
        "colab": {
          "base_uri": "https://localhost:8080/"
        },
        "id": "fb6eWnXT068X",
        "outputId": "e4140f58-7e14-4dbf-b75e-58ed58c7a612"
      },
      "outputs": [
        {
          "output_type": "stream",
          "name": "stdout",
          "text": [
            "olleH\n"
          ]
        }
      ],
      "source": [
        "def inverter_string(s):\n",
        "    pilha = list(s)\n",
        "    resultado = \"\"\n",
        "\n",
        "    while pilha:\n",
        "        resultado += pilha.pop()\n",
        "\n",
        "    return resultado\n",
        "\n",
        "\n",
        "entrada = \"Hello\"\n",
        "saida = inverter_string(entrada)\n",
        "print(saida)\n"
      ]
    },
    {
      "cell_type": "code",
      "source": [
        "from collections import deque\n",
        "\n",
        "def simular_fila():\n",
        "    fila = deque()\n",
        "\n",
        "\n",
        "    fila.append(1)\n",
        "    fila.append(2)\n",
        "\n",
        "\n",
        "    return fila.popleft()\n",
        "\n",
        "\n",
        "saida = simular_fila()\n",
        "print(saida)\n"
      ],
      "metadata": {
        "id": "_V24R1GK1jVz"
      },
      "execution_count": null,
      "outputs": []
    },
    {
      "cell_type": "code",
      "source": [
        "from collections import deque\n",
        "\n",
        "def reverter_fila(fila):\n",
        "    pilha = []  m\n",
        "\n",
        "\n",
        "    while fila:\n",
        "        pilha.append(fila.popleft())\n",
        "\n",
        "\n",
        "    while pilha:\n",
        "        fila.append(pilha.pop())\n",
        "\n",
        "    return list(fila)\n",
        "\n",
        "\n",
        "fila = deque([1, 2, 3])\n",
        "saida = reverter_fila(fila)\n",
        "print(saida)\n"
      ],
      "metadata": {
        "id": "dyyW-BPp1vq5"
      },
      "execution_count": null,
      "outputs": []
    },
    {
      "cell_type": "code",
      "source": [
        "class No:\n",
        "    def __init__(self, chave):\n",
        "        self.chave = chave\n",
        "        self.esquerda = None\n",
        "        self.direita = None\n",
        "\n",
        "class ArvoreBinaria:\n",
        "    def __init__(self):\n",
        "        self.raiz = None\n",
        "\n",
        "    def inserir(self, chave):\n",
        "        if self.raiz is None:\n",
        "            self.raiz = No(chave)\n",
        "        else:\n",
        "            self._inserir_recursivo(self.raiz, chave)\n",
        "\n",
        "    def _inserir_recursivo(self, no, chave):\n",
        "        if chave < no.chave:\n",
        "            if no.esquerda is None:\n",
        "                no.esquerda = No(chave)\n",
        "            else:\n",
        "                self._inserir_recursivo(no.esquerda, chave)\n",
        "        else:\n",
        "            if no.direita is None:\n",
        "                no.direita = No(chave)\n",
        "            else:\n",
        "                self._inserir_recursivo(no.direita, chave)\n",
        "\n",
        "    def em_ordem(self, no):\n",
        "        if no:\n",
        "            self.em_ordem(no.esquerda)\n",
        "            print(no.chave, end=\" \")\n",
        "            self.em_ordem(no.direita)\n",
        "\n",
        "arvore = ArvoreBinaria()\n",
        "arvore.inserir(5)\n",
        "ar\n"
      ],
      "metadata": {
        "id": "i2fcIN7G2gjJ"
      },
      "execution_count": null,
      "outputs": []
    },
    {
      "cell_type": "code",
      "source": [
        "class No:\n",
        "    def __init__(self, chave):\n",
        "        self.chave = chave\n",
        "        self.esquerda = None\n",
        "        self.direita = None\n",
        "\n",
        "class ArvoreBinaria:\n",
        "    def __init__(self):\n",
        "        self.raiz = None\n",
        "\n",
        "    def inserir(self, chave):\n",
        "        if self.raiz is None:\n",
        "            self.raiz = No(chave)\n",
        "        else:\n",
        "            self._inserir_recursivo(self.raiz, chave)\n",
        "\n",
        "    def _inserir_recursivo(self, no, chave):\n",
        "        if chave < no.chave:\n",
        "            if no.esquerda is None:\n",
        "                no.esquerda = No(chave)\n",
        "            else:\n",
        "                self._inserir_recursivo(no.esquerda, chave)\n",
        "        else:\n",
        "            if no.direita is None:\n",
        "                no.direita = No(chave)\n",
        "            else:\n",
        "                self._inserir_recursivo(no.direita, chave)\n",
        "\n",
        "    def obter_filhos(self, chave):\n",
        "        no = self._buscar(self.raiz, chave)\n",
        "        if no:\n",
        "            filhos = []\n",
        "            if no.esquerda:\n",
        "                filhos.append(no.esquerda.chave)\n",
        "            if no.direita:\n",
        "                filhos.append(no.direita.chave)\n",
        "            return filhos\n",
        "        return None\n",
        "\n",
        "    def _buscar(self, no, chave):\n",
        "        if no is None or no.chave == chave:\n",
        "            return no\n",
        "        elif chave < no.chave:\n",
        "            return self._buscar(no.esquerda, chave)\n",
        "        else:\n",
        "            return self._buscar(no.direita, chave)\n",
        "\n",
        "\n",
        "arvore = ArvoreBinaria()\n",
        "arvore.inserir(10)\n",
        "arvore.inserir(5)\n",
        "arvore.inserir(15)\n",
        "\n",
        "saida = arvore.obter_filhos(10)\n",
        "print(saida)\n"
      ],
      "metadata": {
        "id": "wXJag4Ni3V8a"
      },
      "execution_count": null,
      "outputs": []
    }
  ]
}